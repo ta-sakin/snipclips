{
 "cells": [
  {
   "cell_type": "code",
   "execution_count": null,
   "metadata": {},
   "outputs": [],
   "source": [
    "pip install requests"
   ]
  },
  {
   "cell_type": "code",
   "execution_count": null,
   "metadata": {},
   "outputs": [],
   "source": [
    "pip install yt-dlp"
   ]
  },
  {
   "cell_type": "code",
   "execution_count": null,
   "metadata": {},
   "outputs": [],
   "source": [
    "pip install yt-dlp"
   ]
  },
  {
   "cell_type": "code",
   "execution_count": null,
   "metadata": {},
   "outputs": [],
   "source": [
    "yt-dlp \"https://www.youtube.com/watch?v=C253MjavrBs\""
   ]
  },
  {
   "cell_type": "code",
   "execution_count": null,
   "metadata": {},
   "outputs": [],
   "source": [
    "import os\n",
    "import subprocess\n",
    "import yt_dlp\n",
    "def download_youtube_video(youtube_link, output_path):\n",
    "    # Extract base filename without extension\n",
    "    output_base = os.path.splitext(output_path)[0]\n",
    "\n",
    "    # Define the yt-dlp command with the necessary options\n",
    "    command = [\n",
    "        'yt-dlp',\n",
    "        '-f', 'bestvideo[ext=mp4]+bestaudio[ext=m4a]/mp4',\n",
    "        youtube_link,\n",
    "        '--username', 'oauth2',\n",
    "        '--password', '',\n",
    "        '--output', f'{output_base}.mp4'\n",
    "    ]\n",
    "\n",
    "    # Execute the command\n",
    "    try:\n",
    "        result = subprocess.run(command, check=True,\n",
    "                                capture_output=True, text=True)\n",
    "        print(\"Download successful:\", result.stdout)\n",
    "        return f\"{output_base}.mp4\"  # Path to the downloaded video\n",
    "    except subprocess.CalledProcessError as e:\n",
    "        print(\"An error occurred:\", e.stderr)\n",
    "        return None\n",
    "download_youtube_video(\"https://www.youtube.com/watch?v=C253MjavrBs\",'lex_clips.mp4')"
   ]
  },
  {
   "cell_type": "code",
   "execution_count": 2,
   "metadata": {},
   "outputs": [
    {
     "name": "stdout",
     "output_type": "stream",
     "text": [
      "Requirement already satisfied: requests in /home/codespace/.local/lib/python3.12/site-packages (2.32.3)\n",
      "Requirement already satisfied: charset-normalizer<4,>=2 in /home/codespace/.local/lib/python3.12/site-packages (from requests) (3.4.0)\n",
      "Requirement already satisfied: idna<4,>=2.5 in /home/codespace/.local/lib/python3.12/site-packages (from requests) (3.10)\n",
      "Requirement already satisfied: urllib3<3,>=1.21.1 in /home/codespace/.local/lib/python3.12/site-packages (from requests) (2.2.3)\n",
      "Requirement already satisfied: certifi>=2017.4.17 in /home/codespace/.local/lib/python3.12/site-packages (from requests) (2024.8.30)\n",
      "\n",
      "\u001b[1m[\u001b[0m\u001b[34;49mnotice\u001b[0m\u001b[1;39;49m]\u001b[0m\u001b[39;49m A new release of pip is available: \u001b[0m\u001b[31;49m24.0\u001b[0m\u001b[39;49m -> \u001b[0m\u001b[32;49m24.3.1\u001b[0m\n",
      "\u001b[1m[\u001b[0m\u001b[34;49mnotice\u001b[0m\u001b[1;39;49m]\u001b[0m\u001b[39;49m To update, run: \u001b[0m\u001b[32;49mpython -m pip install --upgrade pip\u001b[0m\n",
      "Note: you may need to restart the kernel to use updated packages.\n"
     ]
    }
   ],
   "source": [
    "pip install requests"
   ]
  },
  {
   "cell_type": "code",
   "execution_count": null,
   "metadata": {},
   "outputs": [],
   "source": [
    "import os \n",
    "import yt_dlp\n",
    "\n",
    "def download_youtube_video(youtube_link, output_path):\n",
    "    output_base = os.path.splitext(output_path)[0]\n",
    "\n",
    "    ydl_opts = {\n",
    "        'format': 'bestvideo[ext=mp4]+bestaudio[ext=m4a]/mp4',\n",
    "        'outtmpl': output_base + '.mp4',\n",
    "    }\n",
    "\n",
    "    with yt_dlp.YoutubeDL(ydl_opts) as ydl:\n",
    "        ydl.download([youtube_link])\n",
    "    actual_output = output_base + '.mp4'\n",
    "    return actual_output\n",
    "download_youtube_video(\"https://www.youtube.com/watch?v=C253MjavrBs\",'lex_clips.mp4')\n"
   ]
  },
  {
   "cell_type": "code",
   "execution_count": 7,
   "metadata": {},
   "outputs": [
    {
     "name": "stdout",
     "output_type": "stream",
     "text": [
      "200\n",
      "{'matching_speakers': ['SPEAKER_01'], 'speaker_distances': {'SPEAKER_00': 0.7720759629429036, 'SPEAKER_01': 0.04126668025657687}, 'status': 'success', 'video_url': 'https://krmu-app.s3.amazonaws.com/processed_videos/output_70365d2a-222b-4630-a185-ce0f14a63bcb.mp4'}\n"
     ]
    }
   ],
   "source": [
    "import requests\n",
    "\n",
    "# URL of the endpoint\n",
    "url = \"http://127.0.0.1:5000/process_video\"\n",
    "\n",
    "# The YouTube URL and path to the local audio file\n",
    "data = {\n",
    "    \"youtube_url\": \"https://www.youtube.com/watch?v=C253MjavrBs\"\n",
    "}\n",
    "\n",
    "# Path to the local reference audio file\n",
    "files = {\n",
    "    \"reference_audio\": open(\"lex_voice.wav\", \"rb\")\n",
    "}\n",
    "\n",
    "# Make the POST request\n",
    "response = requests.post(url, data=data, files=files)\n",
    "\n",
    "# Print response from the server\n",
    "print(response.status_code)\n",
    "print(response.json())\n"
   ]
  },
  {
   "cell_type": "markdown",
   "metadata": {},
   "source": [
    "# using pytube"
   ]
  },
  {
   "cell_type": "code",
   "execution_count": null,
   "metadata": {},
   "outputs": [],
   "source": [
    "from flask import Flask, request, jsonify\n",
    "from pytube import YouTube\n",
    "import re\n",
    "\n",
    "\n",
    "def download_video(url, resolution):\n",
    "    try:\n",
    "        yt = YouTube(url)\n",
    "        stream = yt.streams.filter(progressive=True, file_extension='mp4', resolution=resolution).first()\n",
    "        if stream:\n",
    "            stream.download()\n",
    "            return True, None\n",
    "        else:\n",
    "            return False, \"Video with the specified resolution not found.\"\n",
    "    except Exception as e:\n",
    "        return False, str(e)\n",
    "\n",
    "def get_video_info(url):\n",
    "    try:\n",
    "        yt = YouTube(url)\n",
    "        stream = yt.streams.first()\n",
    "        video_info = {\n",
    "            \"title\": yt.title,\n",
    "            \"author\": yt.author,\n",
    "            \"length\": yt.length,\n",
    "            \"views\": yt.views,\n",
    "            \"description\": yt.description,\n",
    "            \"publish_date\": yt.publish_date,\n",
    "        }\n",
    "        return video_info, None\n",
    "    except Exception as e:\n",
    "        return None, str(e)\n",
    "\n",
    "def is_valid_youtube_url(url):\n",
    "    pattern = r\"^(https?://)?(www\\.)?youtube\\.com/watch\\?v=[\\w-]+(&\\S*)?$\"\n",
    "    return re.match(pattern, url) is not None\n",
    "\n",
    "@app.route('/download/<resolution>', methods=['POST'])\n",
    "def download_by_resolution(resolution):\n",
    "    data = request.get_json()\n",
    "    url = data.get('url')\n",
    "    \n",
    "    if not url:\n",
    "        return jsonify({\"error\": \"Missing 'url' parameter in the request body.\"}), 400\n",
    "\n",
    "    if not is_valid_youtube_url(url):\n",
    "        return jsonify({\"error\": \"Invalid YouTube URL.\"}), 400\n",
    "    \n",
    "    success, error_message = download_video(url, resolution)\n",
    "    \n",
    "    if success:\n",
    "        return jsonify({\"message\": f\"Video with resolution {resolution} downloaded successfully.\"}), 200\n",
    "    else:\n",
    "        return jsonify({\"error\": error_message}), 500\n",
    "\n",
    "@app.route('/video_info', methods=['POST'])\n",
    "def video_info():\n",
    "    data = request.get_json()\n",
    "    url = data.get('url')\n",
    "    \n",
    "    if not url:\n",
    "        return jsonify({\"error\": \"Missing 'url' parameter in the request body.\"}), 400\n",
    "\n",
    "    if not is_valid_youtube_url(url):\n",
    "        return jsonify({\"error\": \"Invalid YouTube URL.\"}), 400\n",
    "    \n",
    "    video_info, error_message = get_video_info(url)\n",
    "    \n",
    "    if video_info:\n",
    "        return jsonify(video_info), 200\n",
    "    else:\n",
    "        return jsonify({\"error\": error_message}), 500\n",
    "\n"
   ]
  }
 ],
 "metadata": {
  "kernelspec": {
   "display_name": "Python 3",
   "language": "python",
   "name": "python3"
  },
  "language_info": {
   "codemirror_mode": {
    "name": "ipython",
    "version": 3
   },
   "file_extension": ".py",
   "mimetype": "text/x-python",
   "name": "python",
   "nbconvert_exporter": "python",
   "pygments_lexer": "ipython3",
   "version": "3.12.1"
  }
 },
 "nbformat": 4,
 "nbformat_minor": 2
}
